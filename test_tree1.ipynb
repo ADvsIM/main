{
 "cells": [
  {
   "cell_type": "markdown",
   "metadata": {},
   "source": [
    "- loss = 0 , validation"
   ]
  },
  {
   "cell_type": "code",
   "execution_count": 1,
   "metadata": {},
   "outputs": [
    {
     "name": "stdout",
     "output_type": "stream",
     "text": [
      "device: args.cuda:0, dataset name : 1_ALOI, model: mlp, sampling: none, minor_number : 1, loss: mfe\n",
      " 52%|█████████████████████▌                   | 105/200 [00:45<00:41,  2.31it/s]^C\n",
      "Traceback (most recent call last):\n",
      "  File \"experiment.py\", line 235, in <module>\n",
      "    main()\n",
      "  File \"experiment.py\", line 211, in main\n",
      "    model.fit(dataset, epoch = args.epochs, batch_size = args.batch_size)\n",
      "  File \"/home/ppleeqq/IMvsAD/model/mlp.py\", line 92, in fit\n",
      "    for X, y in train_dataloader:\n",
      "  File \"/usr/local/lib/python3.6/dist-packages/torch/utils/data/dataloader.py\", line 521, in __next__\n",
      "    data = self._next_data()\n",
      "  File \"/usr/local/lib/python3.6/dist-packages/torch/utils/data/dataloader.py\", line 561, in _next_data\n",
      "    data = self._dataset_fetcher.fetch(index)  # may raise StopIteration\n",
      "  File \"/usr/local/lib/python3.6/dist-packages/torch/utils/data/_utils/fetch.py\", line 52, in fetch\n",
      "    return self.collate_fn(data)\n",
      "  File \"/usr/local/lib/python3.6/dist-packages/torch/utils/data/_utils/collate.py\", line 84, in default_collate\n",
      "    return [default_collate(samples) for samples in transposed]\n",
      "  File \"/usr/local/lib/python3.6/dist-packages/torch/utils/data/_utils/collate.py\", line 84, in <listcomp>\n",
      "    return [default_collate(samples) for samples in transposed]\n",
      "  File \"/usr/local/lib/python3.6/dist-packages/torch/utils/data/_utils/collate.py\", line 56, in default_collate\n",
      "    return torch.stack(batch, 0, out=out)\n",
      "KeyboardInterrupt\n",
      "\n",
      "device: args.cuda:0, dataset name : 1_ALOI, model: mlp, sampling: none, minor_number : 3, loss: mfe\n",
      "  7%|██▉                                       | 14/200 [00:08<01:18,  2.37it/s]"
     ]
    }
   ],
   "source": [
    "for i in range(47):\n",
    "    for j in range(1,9):\n",
    "        !taskset -c 0-9 python3.6 experiment.py -d {i} -l 0 -mi {j} -g 0"
   ]
  },
  {
   "cell_type": "code",
   "execution_count": null,
   "metadata": {},
   "outputs": [],
   "source": []
  }
 ],
 "metadata": {
  "kernelspec": {
   "display_name": "Python 3",
   "language": "python",
   "name": "python3"
  },
  "language_info": {
   "codemirror_mode": {
    "name": "ipython",
    "version": 3
   },
   "file_extension": ".py",
   "mimetype": "text/x-python",
   "name": "python",
   "nbconvert_exporter": "python",
   "pygments_lexer": "ipython3",
   "version": "3.6.13"
  }
 },
 "nbformat": 4,
 "nbformat_minor": 2
}
