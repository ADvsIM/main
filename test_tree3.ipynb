{
 "cells": [
  {
   "cell_type": "markdown",
   "metadata": {},
   "source": [
    "- loss = 2 , validation"
   ]
  },
  {
   "cell_type": "code",
   "execution_count": 1,
   "metadata": {},
   "outputs": [
    {
     "name": "stdout",
     "output_type": "stream",
     "text": [
      "device: args.cuda:2, dataset name : 1_ALOI, model: mlp, sampling: none, minor_number : 1, loss: focal\n",
      "  0%|                                                   | 0/100 [00:00<?, ?it/s]> /home/ppleeqq/IMvsAD/utils/loss.py(55)forward()\n",
      "-> at = self.alpha.gather(0,target.to(torch.int64))\n",
      "(Pdb) "
     ]
    }
   ],
   "source": [
    "for i in range(47):\n",
    "    for j in range(1,9):\n",
    "        !taskset -c 20-29 python3.6 experiment.py -d {i} -l 2 -mi {j} -g 2"
   ]
  },
  {
   "cell_type": "code",
   "execution_count": null,
   "metadata": {},
   "outputs": [],
   "source": []
  }
 ],
 "metadata": {
  "kernelspec": {
   "display_name": "Python 3",
   "language": "python",
   "name": "python3"
  },
  "language_info": {
   "codemirror_mode": {
    "name": "ipython",
    "version": 3
   },
   "file_extension": ".py",
   "mimetype": "text/x-python",
   "name": "python",
   "nbconvert_exporter": "python",
   "pygments_lexer": "ipython3",
   "version": "3.6.13"
  }
 },
 "nbformat": 4,
 "nbformat_minor": 2
}
